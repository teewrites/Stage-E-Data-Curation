{
 "cells": [
  {
   "cell_type": "code",
   "execution_count": 1,
   "metadata": {},
   "outputs": [],
   "source": [
    "#import libraries\n",
    "import numpy as np\n",
    "import pandas as pd\n",
    "import seaborn as sns\n",
    "import matplotlib.pyplot as plt"
   ]
  },
  {
   "cell_type": "code",
   "execution_count": 2,
   "metadata": {},
   "outputs": [],
   "source": [
    "df2 = pd.read_csv('Newest_amazon_data.csv')"
   ]
  },
  {
   "cell_type": "code",
   "execution_count": 3,
   "metadata": {},
   "outputs": [
    {
     "data": {
      "text/html": [
       "<div>\n",
       "<style scoped>\n",
       "    .dataframe tbody tr th:only-of-type {\n",
       "        vertical-align: middle;\n",
       "    }\n",
       "\n",
       "    .dataframe tbody tr th {\n",
       "        vertical-align: top;\n",
       "    }\n",
       "\n",
       "    .dataframe thead th {\n",
       "        text-align: right;\n",
       "    }\n",
       "</style>\n",
       "<table border=\"1\" class=\"dataframe\">\n",
       "  <thead>\n",
       "    <tr style=\"text-align: right;\">\n",
       "      <th></th>\n",
       "      <th>category</th>\n",
       "      <th>title</th>\n",
       "      <th>author</th>\n",
       "      <th>publication_date</th>\n",
       "      <th>rating</th>\n",
       "      <th>number_of_ratings</th>\n",
       "    </tr>\n",
       "  </thead>\n",
       "  <tbody>\n",
       "    <tr>\n",
       "      <th>0</th>\n",
       "      <td>Arts &amp; Photography</td>\n",
       "      <td>The 5 Love Languages: The Secret to Love that ...</td>\n",
       "      <td>Gary Chapman</td>\n",
       "      <td>2015-01-01</td>\n",
       "      <td>4.8</td>\n",
       "      <td>27397</td>\n",
       "    </tr>\n",
       "    <tr>\n",
       "      <th>1</th>\n",
       "      <td>Arts &amp; Photography</td>\n",
       "      <td>The Life-Changing Magic of Tidying Up: The Jap...</td>\n",
       "      <td>Marie Kondo</td>\n",
       "      <td>2014-10-14</td>\n",
       "      <td>4.5</td>\n",
       "      <td>23167</td>\n",
       "    </tr>\n",
       "    <tr>\n",
       "      <th>2</th>\n",
       "      <td>Arts &amp; Photography</td>\n",
       "      <td>Born a Crime: Stories from a South African Chi...</td>\n",
       "      <td>Trevor Noah</td>\n",
       "      <td>2019-02-12</td>\n",
       "      <td>4.8</td>\n",
       "      <td>20444</td>\n",
       "    </tr>\n",
       "    <tr>\n",
       "      <th>3</th>\n",
       "      <td>Arts &amp; Photography</td>\n",
       "      <td>Born a Crime: Stories from a South African Chi...</td>\n",
       "      <td>Trevor Noah</td>\n",
       "      <td>2016-11-15</td>\n",
       "      <td>4.8</td>\n",
       "      <td>20444</td>\n",
       "    </tr>\n",
       "    <tr>\n",
       "      <th>4</th>\n",
       "      <td>Arts &amp; Photography</td>\n",
       "      <td>Proof of Heaven: A Neurosurgeon's Journey into...</td>\n",
       "      <td>Eben Alexander</td>\n",
       "      <td>2012-10-23</td>\n",
       "      <td>4.3</td>\n",
       "      <td>13695</td>\n",
       "    </tr>\n",
       "  </tbody>\n",
       "</table>\n",
       "</div>"
      ],
      "text/plain": [
       "             category                                              title  \\\n",
       "0  Arts & Photography  The 5 Love Languages: The Secret to Love that ...   \n",
       "1  Arts & Photography  The Life-Changing Magic of Tidying Up: The Jap...   \n",
       "2  Arts & Photography  Born a Crime: Stories from a South African Chi...   \n",
       "3  Arts & Photography  Born a Crime: Stories from a South African Chi...   \n",
       "4  Arts & Photography  Proof of Heaven: A Neurosurgeon's Journey into...   \n",
       "\n",
       "           author publication_date  rating  number_of_ratings  \n",
       "0    Gary Chapman       2015-01-01     4.8              27397  \n",
       "1     Marie Kondo       2014-10-14     4.5              23167  \n",
       "2     Trevor Noah       2019-02-12     4.8              20444  \n",
       "3     Trevor Noah       2016-11-15     4.8              20444  \n",
       "4  Eben Alexander       2012-10-23     4.3              13695  "
      ]
     },
     "execution_count": 3,
     "metadata": {},
     "output_type": "execute_result"
    }
   ],
   "source": [
    "df2.head()"
   ]
  },
  {
   "cell_type": "code",
   "execution_count": 4,
   "metadata": {},
   "outputs": [
    {
     "data": {
      "text/plain": [
       "(1536, 6)"
      ]
     },
     "execution_count": 4,
     "metadata": {},
     "output_type": "execute_result"
    }
   ],
   "source": [
    "df2.shape"
   ]
  },
  {
   "cell_type": "code",
   "execution_count": 5,
   "metadata": {},
   "outputs": [
    {
     "data": {
      "text/html": [
       "<div>\n",
       "<style scoped>\n",
       "    .dataframe tbody tr th:only-of-type {\n",
       "        vertical-align: middle;\n",
       "    }\n",
       "\n",
       "    .dataframe tbody tr th {\n",
       "        vertical-align: top;\n",
       "    }\n",
       "\n",
       "    .dataframe thead th {\n",
       "        text-align: right;\n",
       "    }\n",
       "</style>\n",
       "<table border=\"1\" class=\"dataframe\">\n",
       "  <thead>\n",
       "    <tr style=\"text-align: right;\">\n",
       "      <th></th>\n",
       "      <th>rating</th>\n",
       "      <th>number_of_ratings</th>\n",
       "    </tr>\n",
       "  </thead>\n",
       "  <tbody>\n",
       "    <tr>\n",
       "      <th>count</th>\n",
       "      <td>1462.000000</td>\n",
       "      <td>1536.000000</td>\n",
       "    </tr>\n",
       "    <tr>\n",
       "      <th>mean</th>\n",
       "      <td>4.654788</td>\n",
       "      <td>11078.149089</td>\n",
       "    </tr>\n",
       "    <tr>\n",
       "      <th>std</th>\n",
       "      <td>0.147768</td>\n",
       "      <td>9649.796134</td>\n",
       "    </tr>\n",
       "    <tr>\n",
       "      <th>min</th>\n",
       "      <td>4.300000</td>\n",
       "      <td>821.000000</td>\n",
       "    </tr>\n",
       "    <tr>\n",
       "      <th>25%</th>\n",
       "      <td>4.600000</td>\n",
       "      <td>4603.500000</td>\n",
       "    </tr>\n",
       "    <tr>\n",
       "      <th>50%</th>\n",
       "      <td>4.700000</td>\n",
       "      <td>8724.000000</td>\n",
       "    </tr>\n",
       "    <tr>\n",
       "      <th>75%</th>\n",
       "      <td>4.800000</td>\n",
       "      <td>14107.000000</td>\n",
       "    </tr>\n",
       "    <tr>\n",
       "      <th>max</th>\n",
       "      <td>4.900000</td>\n",
       "      <td>96513.000000</td>\n",
       "    </tr>\n",
       "  </tbody>\n",
       "</table>\n",
       "</div>"
      ],
      "text/plain": [
       "            rating  number_of_ratings\n",
       "count  1462.000000        1536.000000\n",
       "mean      4.654788       11078.149089\n",
       "std       0.147768        9649.796134\n",
       "min       4.300000         821.000000\n",
       "25%       4.600000        4603.500000\n",
       "50%       4.700000        8724.000000\n",
       "75%       4.800000       14107.000000\n",
       "max       4.900000       96513.000000"
      ]
     },
     "execution_count": 5,
     "metadata": {},
     "output_type": "execute_result"
    }
   ],
   "source": [
    "df2.describe()"
   ]
  },
  {
   "cell_type": "code",
   "execution_count": 6,
   "metadata": {},
   "outputs": [
    {
     "data": {
      "text/plain": [
       "category              object\n",
       "title                 object\n",
       "author                object\n",
       "publication_date      object\n",
       "rating               float64\n",
       "number_of_ratings      int64\n",
       "dtype: object"
      ]
     },
     "execution_count": 6,
     "metadata": {},
     "output_type": "execute_result"
    }
   ],
   "source": [
    "df2.dtypes"
   ]
  },
  {
   "cell_type": "code",
   "execution_count": 7,
   "metadata": {},
   "outputs": [],
   "source": [
    "from datetime import datetime\n",
    "df2['publication_date']= df2['publication_date'].astype('datetime64[ns]')"
   ]
  },
  {
   "cell_type": "code",
   "execution_count": 8,
   "metadata": {},
   "outputs": [
    {
     "data": {
      "text/plain": [
       "category                     object\n",
       "title                        object\n",
       "author                       object\n",
       "publication_date     datetime64[ns]\n",
       "rating                      float64\n",
       "number_of_ratings             int64\n",
       "dtype: object"
      ]
     },
     "execution_count": 8,
     "metadata": {},
     "output_type": "execute_result"
    }
   ],
   "source": [
    "df2.dtypes"
   ]
  },
  {
   "cell_type": "code",
   "execution_count": 9,
   "metadata": {},
   "outputs": [
    {
     "data": {
      "text/html": [
       "<div>\n",
       "<style scoped>\n",
       "    .dataframe tbody tr th:only-of-type {\n",
       "        vertical-align: middle;\n",
       "    }\n",
       "\n",
       "    .dataframe tbody tr th {\n",
       "        vertical-align: top;\n",
       "    }\n",
       "\n",
       "    .dataframe thead th {\n",
       "        text-align: right;\n",
       "    }\n",
       "</style>\n",
       "<table border=\"1\" class=\"dataframe\">\n",
       "  <thead>\n",
       "    <tr style=\"text-align: right;\">\n",
       "      <th></th>\n",
       "      <th>category</th>\n",
       "      <th>title</th>\n",
       "      <th>author</th>\n",
       "      <th>publication_date</th>\n",
       "      <th>rating</th>\n",
       "      <th>number_of_ratings</th>\n",
       "    </tr>\n",
       "  </thead>\n",
       "  <tbody>\n",
       "    <tr>\n",
       "      <th>0</th>\n",
       "      <td>Arts &amp; Photography</td>\n",
       "      <td>The 5 Love Languages: The Secret to Love that ...</td>\n",
       "      <td>Gary Chapman</td>\n",
       "      <td>2015-01-01</td>\n",
       "      <td>4.8</td>\n",
       "      <td>27397</td>\n",
       "    </tr>\n",
       "    <tr>\n",
       "      <th>1</th>\n",
       "      <td>Arts &amp; Photography</td>\n",
       "      <td>The Life-Changing Magic of Tidying Up: The Jap...</td>\n",
       "      <td>Marie Kondo</td>\n",
       "      <td>2014-10-14</td>\n",
       "      <td>4.5</td>\n",
       "      <td>23167</td>\n",
       "    </tr>\n",
       "    <tr>\n",
       "      <th>2</th>\n",
       "      <td>Arts &amp; Photography</td>\n",
       "      <td>Born a Crime: Stories from a South African Chi...</td>\n",
       "      <td>Trevor Noah</td>\n",
       "      <td>2019-02-12</td>\n",
       "      <td>4.8</td>\n",
       "      <td>20444</td>\n",
       "    </tr>\n",
       "    <tr>\n",
       "      <th>3</th>\n",
       "      <td>Arts &amp; Photography</td>\n",
       "      <td>Born a Crime: Stories from a South African Chi...</td>\n",
       "      <td>Trevor Noah</td>\n",
       "      <td>2016-11-15</td>\n",
       "      <td>4.8</td>\n",
       "      <td>20444</td>\n",
       "    </tr>\n",
       "    <tr>\n",
       "      <th>4</th>\n",
       "      <td>Arts &amp; Photography</td>\n",
       "      <td>Proof of Heaven: A Neurosurgeon's Journey into...</td>\n",
       "      <td>Eben Alexander</td>\n",
       "      <td>2012-10-23</td>\n",
       "      <td>4.3</td>\n",
       "      <td>13695</td>\n",
       "    </tr>\n",
       "  </tbody>\n",
       "</table>\n",
       "</div>"
      ],
      "text/plain": [
       "             category                                              title  \\\n",
       "0  Arts & Photography  The 5 Love Languages: The Secret to Love that ...   \n",
       "1  Arts & Photography  The Life-Changing Magic of Tidying Up: The Jap...   \n",
       "2  Arts & Photography  Born a Crime: Stories from a South African Chi...   \n",
       "3  Arts & Photography  Born a Crime: Stories from a South African Chi...   \n",
       "4  Arts & Photography  Proof of Heaven: A Neurosurgeon's Journey into...   \n",
       "\n",
       "           author publication_date  rating  number_of_ratings  \n",
       "0    Gary Chapman       2015-01-01     4.8              27397  \n",
       "1     Marie Kondo       2014-10-14     4.5              23167  \n",
       "2     Trevor Noah       2019-02-12     4.8              20444  \n",
       "3     Trevor Noah       2016-11-15     4.8              20444  \n",
       "4  Eben Alexander       2012-10-23     4.3              13695  "
      ]
     },
     "execution_count": 9,
     "metadata": {},
     "output_type": "execute_result"
    }
   ],
   "source": [
    "df2.head()"
   ]
  },
  {
   "cell_type": "code",
   "execution_count": 12,
   "metadata": {},
   "outputs": [],
   "source": [
    "df_ = df2.loc[df2['publication_date'] <'2020']\n"
   ]
  },
  {
   "cell_type": "code",
   "execution_count": 13,
   "metadata": {},
   "outputs": [
    {
     "data": {
      "text/plain": [
       "(1443, 6)"
      ]
     },
     "execution_count": 13,
     "metadata": {},
     "output_type": "execute_result"
    }
   ],
   "source": [
    "df_.shape"
   ]
  },
  {
   "cell_type": "code",
   "execution_count": 14,
   "metadata": {},
   "outputs": [
    {
     "data": {
      "text/plain": [
       "4.9"
      ]
     },
     "execution_count": 14,
     "metadata": {},
     "output_type": "execute_result"
    }
   ],
   "source": [
    "df2['rating'].max()"
   ]
  },
  {
   "cell_type": "code",
   "execution_count": 15,
   "metadata": {},
   "outputs": [
    {
     "data": {
      "text/html": [
       "<div>\n",
       "<style scoped>\n",
       "    .dataframe tbody tr th:only-of-type {\n",
       "        vertical-align: middle;\n",
       "    }\n",
       "\n",
       "    .dataframe tbody tr th {\n",
       "        vertical-align: top;\n",
       "    }\n",
       "\n",
       "    .dataframe thead th {\n",
       "        text-align: right;\n",
       "    }\n",
       "</style>\n",
       "<table border=\"1\" class=\"dataframe\">\n",
       "  <thead>\n",
       "    <tr style=\"text-align: right;\">\n",
       "      <th></th>\n",
       "      <th>category</th>\n",
       "      <th>title</th>\n",
       "      <th>author</th>\n",
       "      <th>publication_date</th>\n",
       "      <th>rating</th>\n",
       "      <th>number_of_ratings</th>\n",
       "    </tr>\n",
       "  </thead>\n",
       "  <tbody>\n",
       "    <tr>\n",
       "      <th>11</th>\n",
       "      <td>Arts &amp; Photography</td>\n",
       "      <td>Strange Planet</td>\n",
       "      <td>Nathan W. Pyle</td>\n",
       "      <td>2019-11-19</td>\n",
       "      <td>4.9</td>\n",
       "      <td>9879</td>\n",
       "    </tr>\n",
       "    <tr>\n",
       "      <th>52</th>\n",
       "      <td>Calendars</td>\n",
       "      <td>Thomas Kinkade Studios: Disney Dreams Collecti...</td>\n",
       "      <td>Thomas Kinkade</td>\n",
       "      <td>2019-05-28</td>\n",
       "      <td>4.9</td>\n",
       "      <td>2951</td>\n",
       "    </tr>\n",
       "    <tr>\n",
       "      <th>75</th>\n",
       "      <td>Children's Books</td>\n",
       "      <td>The Very Hungry Caterpillar</td>\n",
       "      <td>Eric Carle</td>\n",
       "      <td>1994-03-23</td>\n",
       "      <td>4.9</td>\n",
       "      <td>21323</td>\n",
       "    </tr>\n",
       "    <tr>\n",
       "      <th>76</th>\n",
       "      <td>Children's Books</td>\n",
       "      <td>The Very Hungry Caterpillar Giant Board Book a...</td>\n",
       "      <td>Eric Carle</td>\n",
       "      <td>2001-10-01</td>\n",
       "      <td>4.9</td>\n",
       "      <td>21323</td>\n",
       "    </tr>\n",
       "    <tr>\n",
       "      <th>77</th>\n",
       "      <td>Children's Books</td>\n",
       "      <td>Harry Potter and the Chamber of Secrets: The I...</td>\n",
       "      <td>J.K. Rowling</td>\n",
       "      <td>2016-10-04</td>\n",
       "      <td>4.9</td>\n",
       "      <td>20763</td>\n",
       "    </tr>\n",
       "    <tr>\n",
       "      <th>...</th>\n",
       "      <td>...</td>\n",
       "      <td>...</td>\n",
       "      <td>...</td>\n",
       "      <td>...</td>\n",
       "      <td>...</td>\n",
       "      <td>...</td>\n",
       "    </tr>\n",
       "    <tr>\n",
       "      <th>1359</th>\n",
       "      <td>Parenting &amp; Relationships</td>\n",
       "      <td>How to Babysit a Grandad</td>\n",
       "      <td>Jean Reagan</td>\n",
       "      <td>2013-09-05</td>\n",
       "      <td>4.9</td>\n",
       "      <td>4203</td>\n",
       "    </tr>\n",
       "    <tr>\n",
       "      <th>1388</th>\n",
       "      <td>Reference</td>\n",
       "      <td>Corduroy</td>\n",
       "      <td>Don Freeman</td>\n",
       "      <td>1976-09-30</td>\n",
       "      <td>4.9</td>\n",
       "      <td>4956</td>\n",
       "    </tr>\n",
       "    <tr>\n",
       "      <th>1405</th>\n",
       "      <td>Religion &amp; Spirituality</td>\n",
       "      <td>When God Made You</td>\n",
       "      <td>Matthew Paul Turner</td>\n",
       "      <td>2017-02-28</td>\n",
       "      <td>4.9</td>\n",
       "      <td>7674</td>\n",
       "    </tr>\n",
       "    <tr>\n",
       "      <th>1448</th>\n",
       "      <td>Science Fiction &amp; Fantasy</td>\n",
       "      <td>Strange Planet</td>\n",
       "      <td>J.R.R. Tolkien</td>\n",
       "      <td>2019-11-19</td>\n",
       "      <td>4.9</td>\n",
       "      <td>9881</td>\n",
       "    </tr>\n",
       "    <tr>\n",
       "      <th>1458</th>\n",
       "      <td>Self-Help</td>\n",
       "      <td>Strange Planet (Strange Planet Series)</td>\n",
       "      <td>Nathan W. Pyle</td>\n",
       "      <td>2019-11-19</td>\n",
       "      <td>4.9</td>\n",
       "      <td>9881</td>\n",
       "    </tr>\n",
       "  </tbody>\n",
       "</table>\n",
       "<p>80 rows × 6 columns</p>\n",
       "</div>"
      ],
      "text/plain": [
       "                       category  \\\n",
       "11           Arts & Photography   \n",
       "52                    Calendars   \n",
       "75             Children's Books   \n",
       "76             Children's Books   \n",
       "77             Children's Books   \n",
       "...                         ...   \n",
       "1359  Parenting & Relationships   \n",
       "1388                  Reference   \n",
       "1405    Religion & Spirituality   \n",
       "1448  Science Fiction & Fantasy   \n",
       "1458                  Self-Help   \n",
       "\n",
       "                                                  title               author  \\\n",
       "11                                       Strange Planet       Nathan W. Pyle   \n",
       "52    Thomas Kinkade Studios: Disney Dreams Collecti...       Thomas Kinkade   \n",
       "75                          The Very Hungry Caterpillar           Eric Carle   \n",
       "76    The Very Hungry Caterpillar Giant Board Book a...           Eric Carle   \n",
       "77    Harry Potter and the Chamber of Secrets: The I...         J.K. Rowling   \n",
       "...                                                 ...                  ...   \n",
       "1359                           How to Babysit a Grandad          Jean Reagan   \n",
       "1388                                           Corduroy          Don Freeman   \n",
       "1405                                  When God Made You  Matthew Paul Turner   \n",
       "1448                                     Strange Planet       J.R.R. Tolkien   \n",
       "1458             Strange Planet (Strange Planet Series)       Nathan W. Pyle   \n",
       "\n",
       "     publication_date  rating  number_of_ratings  \n",
       "11         2019-11-19     4.9               9879  \n",
       "52         2019-05-28     4.9               2951  \n",
       "75         1994-03-23     4.9              21323  \n",
       "76         2001-10-01     4.9              21323  \n",
       "77         2016-10-04     4.9              20763  \n",
       "...               ...     ...                ...  \n",
       "1359       2013-09-05     4.9               4203  \n",
       "1388       1976-09-30     4.9               4956  \n",
       "1405       2017-02-28     4.9               7674  \n",
       "1448       2019-11-19     4.9               9881  \n",
       "1458       2019-11-19     4.9               9881  \n",
       "\n",
       "[80 rows x 6 columns]"
      ]
     },
     "execution_count": 15,
     "metadata": {},
     "output_type": "execute_result"
    }
   ],
   "source": [
    "# Highest rated books\n",
    "df_[df_['rating']==4.9]"
   ]
  },
  {
   "cell_type": "code",
   "execution_count": 16,
   "metadata": {},
   "outputs": [
    {
     "data": {
      "text/plain": [
       "array(['Where the Crawdads Sing', 'The Girl on the Train', 'Becoming'],\n",
       "      dtype=object)"
      ]
     },
     "execution_count": 16,
     "metadata": {},
     "output_type": "execute_result"
    }
   ],
   "source": [
    "#most reviewed books\n",
    "df_.sort_values('number_of_ratings', ascending = False).iloc[:5].title.unique()"
   ]
  },
  {
   "cell_type": "code",
   "execution_count": 17,
   "metadata": {},
   "outputs": [
    {
     "data": {
      "text/plain": [
       "<matplotlib.axes._subplots.AxesSubplot at 0x2c68f791b48>"
      ]
     },
     "execution_count": 17,
     "metadata": {},
     "output_type": "execute_result"
    },
    {
     "data": {
      "image/png": "[encoded data removed]",
      "text/plain": [
       "<Figure size 432x288 with 1 Axes>"
      ]
     },
     "metadata": {
      "needs_background": "light"
     },
     "output_type": "display_data"
    }
   ],
   "source": [
    "#categories with most reviews\n",
    "most_review = df_.groupby('category')['number_of_ratings'].sum().to_frame().reset_index().sort_values('number_of_ratings', ascending = False).iloc[:5]\n",
    "most_review.sort_values('number_of_ratings').plot.barh(x = 'category', color = 'indigo')"
   ]
  },
  {
   "cell_type": "code",
   "execution_count": 18,
   "metadata": {},
   "outputs": [
    {
     "data": {
      "text/plain": [
       "<matplotlib.axes._subplots.AxesSubplot at 0x2c68ff5dc88>"
      ]
     },
     "execution_count": 18,
     "metadata": {},
     "output_type": "execute_result"
    },
    {
     "data": {
      "image/png": "[encoded data removed]",
      "text/plain": [
       "<Figure size 432x288 with 1 Axes>"
      ]
     },
     "metadata": {
      "needs_background": "light"
     },
     "output_type": "display_data"
    }
   ],
   "source": [
    "#categories with least reviews\n",
    "least_review = df_.groupby('category')['number_of_ratings'].sum().to_frame().reset_index().sort_values('number_of_ratings').iloc[:5]\n",
    "least_review.sort_values('number_of_ratings').plot.barh(x = 'category', color = 'maroon')"
   ]
  },
  {
   "cell_type": "code",
   "execution_count": 19,
   "metadata": {},
   "outputs": [
    {
     "data": {
      "text/html": [
       "<div>\n",
       "<style scoped>\n",
       "    .dataframe tbody tr th:only-of-type {\n",
       "        vertical-align: middle;\n",
       "    }\n",
       "\n",
       "    .dataframe tbody tr th {\n",
       "        vertical-align: top;\n",
       "    }\n",
       "\n",
       "    .dataframe thead th {\n",
       "        text-align: right;\n",
       "    }\n",
       "</style>\n",
       "<table border=\"1\" class=\"dataframe\">\n",
       "  <thead>\n",
       "    <tr style=\"text-align: right;\">\n",
       "      <th></th>\n",
       "      <th>category</th>\n",
       "      <th>rating</th>\n",
       "    </tr>\n",
       "  </thead>\n",
       "  <tbody>\n",
       "    <tr>\n",
       "      <th>0</th>\n",
       "      <td>Children's Books</td>\n",
       "      <td>4.791304</td>\n",
       "    </tr>\n",
       "    <tr>\n",
       "      <th>1</th>\n",
       "      <td>Calendars</td>\n",
       "      <td>4.738462</td>\n",
       "    </tr>\n",
       "    <tr>\n",
       "      <th>2</th>\n",
       "      <td>Humor &amp; Entertainment</td>\n",
       "      <td>4.714286</td>\n",
       "    </tr>\n",
       "    <tr>\n",
       "      <th>3</th>\n",
       "      <td>Education &amp; Teaching</td>\n",
       "      <td>4.695745</td>\n",
       "    </tr>\n",
       "    <tr>\n",
       "      <th>4</th>\n",
       "      <td>Religion &amp; Spirituality</td>\n",
       "      <td>4.693182</td>\n",
       "    </tr>\n",
       "    <tr>\n",
       "      <th>5</th>\n",
       "      <td>Christian Books &amp; Bibles</td>\n",
       "      <td>4.684444</td>\n",
       "    </tr>\n",
       "    <tr>\n",
       "      <th>6</th>\n",
       "      <td>Parenting &amp; Relationships</td>\n",
       "      <td>4.684444</td>\n",
       "    </tr>\n",
       "    <tr>\n",
       "      <th>7</th>\n",
       "      <td>Computers &amp; Technology</td>\n",
       "      <td>4.680000</td>\n",
       "    </tr>\n",
       "    <tr>\n",
       "      <th>8</th>\n",
       "      <td>Biographies &amp; Memoirs</td>\n",
       "      <td>4.672093</td>\n",
       "    </tr>\n",
       "    <tr>\n",
       "      <th>9</th>\n",
       "      <td>Reference</td>\n",
       "      <td>4.669565</td>\n",
       "    </tr>\n",
       "    <tr>\n",
       "      <th>10</th>\n",
       "      <td>Sports &amp; Outdoors</td>\n",
       "      <td>4.666667</td>\n",
       "    </tr>\n",
       "    <tr>\n",
       "      <th>11</th>\n",
       "      <td>Science Fiction &amp; Fantasy</td>\n",
       "      <td>4.659091</td>\n",
       "    </tr>\n",
       "    <tr>\n",
       "      <th>12</th>\n",
       "      <td>Comics &amp; Graphic Novels</td>\n",
       "      <td>4.656522</td>\n",
       "    </tr>\n",
       "    <tr>\n",
       "      <th>13</th>\n",
       "      <td>Politics &amp; Social Sciences</td>\n",
       "      <td>4.655814</td>\n",
       "    </tr>\n",
       "    <tr>\n",
       "      <th>14</th>\n",
       "      <td>Health, Fitness &amp; Dieting</td>\n",
       "      <td>4.655319</td>\n",
       "    </tr>\n",
       "    <tr>\n",
       "      <th>15</th>\n",
       "      <td>Teen &amp; Young Adult</td>\n",
       "      <td>4.652273</td>\n",
       "    </tr>\n",
       "    <tr>\n",
       "      <th>16</th>\n",
       "      <td>Law</td>\n",
       "      <td>4.651282</td>\n",
       "    </tr>\n",
       "    <tr>\n",
       "      <th>17</th>\n",
       "      <td>Self-Help</td>\n",
       "      <td>4.650000</td>\n",
       "    </tr>\n",
       "    <tr>\n",
       "      <th>18</th>\n",
       "      <td>Business &amp; Money</td>\n",
       "      <td>4.646667</td>\n",
       "    </tr>\n",
       "    <tr>\n",
       "      <th>19</th>\n",
       "      <td>History</td>\n",
       "      <td>4.646341</td>\n",
       "    </tr>\n",
       "    <tr>\n",
       "      <th>20</th>\n",
       "      <td>Medical Books</td>\n",
       "      <td>4.645455</td>\n",
       "    </tr>\n",
       "    <tr>\n",
       "      <th>21</th>\n",
       "      <td>Arts &amp; Photography</td>\n",
       "      <td>4.645455</td>\n",
       "    </tr>\n",
       "    <tr>\n",
       "      <th>22</th>\n",
       "      <td>Test Preparation</td>\n",
       "      <td>4.644681</td>\n",
       "    </tr>\n",
       "    <tr>\n",
       "      <th>23</th>\n",
       "      <td>Engineering &amp; Transportation</td>\n",
       "      <td>4.626190</td>\n",
       "    </tr>\n",
       "    <tr>\n",
       "      <th>24</th>\n",
       "      <td>Science &amp; Math</td>\n",
       "      <td>4.625000</td>\n",
       "    </tr>\n",
       "    <tr>\n",
       "      <th>25</th>\n",
       "      <td>Literature &amp; Fiction</td>\n",
       "      <td>4.622500</td>\n",
       "    </tr>\n",
       "    <tr>\n",
       "      <th>26</th>\n",
       "      <td>Crafts, Hobbies &amp; Home</td>\n",
       "      <td>4.611905</td>\n",
       "    </tr>\n",
       "    <tr>\n",
       "      <th>27</th>\n",
       "      <td>Lesbian, Gay, Bisexual &amp; Transgender Books</td>\n",
       "      <td>4.603030</td>\n",
       "    </tr>\n",
       "    <tr>\n",
       "      <th>28</th>\n",
       "      <td>Cookbooks, Food &amp; Wine</td>\n",
       "      <td>4.600000</td>\n",
       "    </tr>\n",
       "    <tr>\n",
       "      <th>29</th>\n",
       "      <td>Travel</td>\n",
       "      <td>4.559524</td>\n",
       "    </tr>\n",
       "    <tr>\n",
       "      <th>30</th>\n",
       "      <td>Mystery, Thriller &amp; Suspense</td>\n",
       "      <td>4.551613</td>\n",
       "    </tr>\n",
       "    <tr>\n",
       "      <th>31</th>\n",
       "      <td>Romance</td>\n",
       "      <td>4.537838</td>\n",
       "    </tr>\n",
       "  </tbody>\n",
       "</table>\n",
       "</div>"
      ],
      "text/plain": [
       "                                      category    rating\n",
       "0                             Children's Books  4.791304\n",
       "1                                    Calendars  4.738462\n",
       "2                        Humor & Entertainment  4.714286\n",
       "3                         Education & Teaching  4.695745\n",
       "4                      Religion & Spirituality  4.693182\n",
       "5                     Christian Books & Bibles  4.684444\n",
       "6                    Parenting & Relationships  4.684444\n",
       "7                       Computers & Technology  4.680000\n",
       "8                        Biographies & Memoirs  4.672093\n",
       "9                                    Reference  4.669565\n",
       "10                           Sports & Outdoors  4.666667\n",
       "11                   Science Fiction & Fantasy  4.659091\n",
       "12                     Comics & Graphic Novels  4.656522\n",
       "13                  Politics & Social Sciences  4.655814\n",
       "14                   Health, Fitness & Dieting  4.655319\n",
       "15                          Teen & Young Adult  4.652273\n",
       "16                                         Law  4.651282\n",
       "17                                   Self-Help  4.650000\n",
       "18                            Business & Money  4.646667\n",
       "19                                     History  4.646341\n",
       "20                               Medical Books  4.645455\n",
       "21                          Arts & Photography  4.645455\n",
       "22                            Test Preparation  4.644681\n",
       "23                Engineering & Transportation  4.626190\n",
       "24                              Science & Math  4.625000\n",
       "25                        Literature & Fiction  4.622500\n",
       "26                      Crafts, Hobbies & Home  4.611905\n",
       "27  Lesbian, Gay, Bisexual & Transgender Books  4.603030\n",
       "28                      Cookbooks, Food & Wine  4.600000\n",
       "29                                      Travel  4.559524\n",
       "30                Mystery, Thriller & Suspense  4.551613\n",
       "31                                     Romance  4.537838"
      ]
     },
     "execution_count": 19,
     "metadata": {},
     "output_type": "execute_result"
    }
   ],
   "source": [
    "#ranking book categories based on rating\n",
    "df_.groupby('category')['rating'].mean().to_frame().reset_index().sort_values('rating', ascending = False).reset_index(drop = True)"
   ]
  },
  {
   "cell_type": "code",
   "execution_count": null,
   "metadata": {},
   "outputs": [],
   "source": []
  }
 ],
 "metadata": {
  "kernelspec": {
   "display_name": "Python 3",
   "language": "python",
   "name": "python3"
  },
  "language_info": {
   "codemirror_mode": {
    "name": "ipython",
    "version": 3
   },
   "file_extension": ".py",
   "mimetype": "text/x-python",
   "name": "python",
   "nbconvert_exporter": "python",
   "pygments_lexer": "ipython3",
   "version": "3.7.6"
  }
 },
 "nbformat": 4,
 "nbformat_minor": 4
}
